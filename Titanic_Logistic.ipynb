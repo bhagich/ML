{
  "nbformat": 4,
  "nbformat_minor": 0,
  "metadata": {
    "colab": {
      "provenance": [],
      "authorship_tag": "ABX9TyNFOafZn+/Ug/12Y5WrCnWP",
      "include_colab_link": true
    },
    "kernelspec": {
      "name": "python3",
      "display_name": "Python 3"
    },
    "language_info": {
      "name": "python"
    }
  },
  "cells": [
    {
      "cell_type": "markdown",
      "metadata": {
        "id": "view-in-github",
        "colab_type": "text"
      },
      "source": [
        "<a href=\"https://colab.research.google.com/github/bhagich/ML/blob/main/Titanic_Logistic.ipynb\" target=\"_parent\"><img src=\"https://colab.research.google.com/assets/colab-badge.svg\" alt=\"Open In Colab\"/></a>"
      ]
    },
    {
      "cell_type": "code",
      "source": [
        "from google.colab import files\n",
        "uploaded = files.upload()"
      ],
      "metadata": {
        "colab": {
          "base_uri": "https://localhost:8080/",
          "height": 73
        },
        "id": "fTc4wjcmREkS",
        "outputId": "0f3744fe-29ab-4756-df42-eff18efc095d"
      },
      "execution_count": 6,
      "outputs": [
        {
          "output_type": "display_data",
          "data": {
            "text/plain": [
              "<IPython.core.display.HTML object>"
            ],
            "text/html": [
              "\n",
              "     <input type=\"file\" id=\"files-b4b3c2c0-d7ed-4f42-8907-a4f1d7e97fb9\" name=\"files[]\" multiple disabled\n",
              "        style=\"border:none\" />\n",
              "     <output id=\"result-b4b3c2c0-d7ed-4f42-8907-a4f1d7e97fb9\">\n",
              "      Upload widget is only available when the cell has been executed in the\n",
              "      current browser session. Please rerun this cell to enable.\n",
              "      </output>\n",
              "      <script>// Copyright 2017 Google LLC\n",
              "//\n",
              "// Licensed under the Apache License, Version 2.0 (the \"License\");\n",
              "// you may not use this file except in compliance with the License.\n",
              "// You may obtain a copy of the License at\n",
              "//\n",
              "//      http://www.apache.org/licenses/LICENSE-2.0\n",
              "//\n",
              "// Unless required by applicable law or agreed to in writing, software\n",
              "// distributed under the License is distributed on an \"AS IS\" BASIS,\n",
              "// WITHOUT WARRANTIES OR CONDITIONS OF ANY KIND, either express or implied.\n",
              "// See the License for the specific language governing permissions and\n",
              "// limitations under the License.\n",
              "\n",
              "/**\n",
              " * @fileoverview Helpers for google.colab Python module.\n",
              " */\n",
              "(function(scope) {\n",
              "function span(text, styleAttributes = {}) {\n",
              "  const element = document.createElement('span');\n",
              "  element.textContent = text;\n",
              "  for (const key of Object.keys(styleAttributes)) {\n",
              "    element.style[key] = styleAttributes[key];\n",
              "  }\n",
              "  return element;\n",
              "}\n",
              "\n",
              "// Max number of bytes which will be uploaded at a time.\n",
              "const MAX_PAYLOAD_SIZE = 100 * 1024;\n",
              "\n",
              "function _uploadFiles(inputId, outputId) {\n",
              "  const steps = uploadFilesStep(inputId, outputId);\n",
              "  const outputElement = document.getElementById(outputId);\n",
              "  // Cache steps on the outputElement to make it available for the next call\n",
              "  // to uploadFilesContinue from Python.\n",
              "  outputElement.steps = steps;\n",
              "\n",
              "  return _uploadFilesContinue(outputId);\n",
              "}\n",
              "\n",
              "// This is roughly an async generator (not supported in the browser yet),\n",
              "// where there are multiple asynchronous steps and the Python side is going\n",
              "// to poll for completion of each step.\n",
              "// This uses a Promise to block the python side on completion of each step,\n",
              "// then passes the result of the previous step as the input to the next step.\n",
              "function _uploadFilesContinue(outputId) {\n",
              "  const outputElement = document.getElementById(outputId);\n",
              "  const steps = outputElement.steps;\n",
              "\n",
              "  const next = steps.next(outputElement.lastPromiseValue);\n",
              "  return Promise.resolve(next.value.promise).then((value) => {\n",
              "    // Cache the last promise value to make it available to the next\n",
              "    // step of the generator.\n",
              "    outputElement.lastPromiseValue = value;\n",
              "    return next.value.response;\n",
              "  });\n",
              "}\n",
              "\n",
              "/**\n",
              " * Generator function which is called between each async step of the upload\n",
              " * process.\n",
              " * @param {string} inputId Element ID of the input file picker element.\n",
              " * @param {string} outputId Element ID of the output display.\n",
              " * @return {!Iterable<!Object>} Iterable of next steps.\n",
              " */\n",
              "function* uploadFilesStep(inputId, outputId) {\n",
              "  const inputElement = document.getElementById(inputId);\n",
              "  inputElement.disabled = false;\n",
              "\n",
              "  const outputElement = document.getElementById(outputId);\n",
              "  outputElement.innerHTML = '';\n",
              "\n",
              "  const pickedPromise = new Promise((resolve) => {\n",
              "    inputElement.addEventListener('change', (e) => {\n",
              "      resolve(e.target.files);\n",
              "    });\n",
              "  });\n",
              "\n",
              "  const cancel = document.createElement('button');\n",
              "  inputElement.parentElement.appendChild(cancel);\n",
              "  cancel.textContent = 'Cancel upload';\n",
              "  const cancelPromise = new Promise((resolve) => {\n",
              "    cancel.onclick = () => {\n",
              "      resolve(null);\n",
              "    };\n",
              "  });\n",
              "\n",
              "  // Wait for the user to pick the files.\n",
              "  const files = yield {\n",
              "    promise: Promise.race([pickedPromise, cancelPromise]),\n",
              "    response: {\n",
              "      action: 'starting',\n",
              "    }\n",
              "  };\n",
              "\n",
              "  cancel.remove();\n",
              "\n",
              "  // Disable the input element since further picks are not allowed.\n",
              "  inputElement.disabled = true;\n",
              "\n",
              "  if (!files) {\n",
              "    return {\n",
              "      response: {\n",
              "        action: 'complete',\n",
              "      }\n",
              "    };\n",
              "  }\n",
              "\n",
              "  for (const file of files) {\n",
              "    const li = document.createElement('li');\n",
              "    li.append(span(file.name, {fontWeight: 'bold'}));\n",
              "    li.append(span(\n",
              "        `(${file.type || 'n/a'}) - ${file.size} bytes, ` +\n",
              "        `last modified: ${\n",
              "            file.lastModifiedDate ? file.lastModifiedDate.toLocaleDateString() :\n",
              "                                    'n/a'} - `));\n",
              "    const percent = span('0% done');\n",
              "    li.appendChild(percent);\n",
              "\n",
              "    outputElement.appendChild(li);\n",
              "\n",
              "    const fileDataPromise = new Promise((resolve) => {\n",
              "      const reader = new FileReader();\n",
              "      reader.onload = (e) => {\n",
              "        resolve(e.target.result);\n",
              "      };\n",
              "      reader.readAsArrayBuffer(file);\n",
              "    });\n",
              "    // Wait for the data to be ready.\n",
              "    let fileData = yield {\n",
              "      promise: fileDataPromise,\n",
              "      response: {\n",
              "        action: 'continue',\n",
              "      }\n",
              "    };\n",
              "\n",
              "    // Use a chunked sending to avoid message size limits. See b/62115660.\n",
              "    let position = 0;\n",
              "    do {\n",
              "      const length = Math.min(fileData.byteLength - position, MAX_PAYLOAD_SIZE);\n",
              "      const chunk = new Uint8Array(fileData, position, length);\n",
              "      position += length;\n",
              "\n",
              "      const base64 = btoa(String.fromCharCode.apply(null, chunk));\n",
              "      yield {\n",
              "        response: {\n",
              "          action: 'append',\n",
              "          file: file.name,\n",
              "          data: base64,\n",
              "        },\n",
              "      };\n",
              "\n",
              "      let percentDone = fileData.byteLength === 0 ?\n",
              "          100 :\n",
              "          Math.round((position / fileData.byteLength) * 100);\n",
              "      percent.textContent = `${percentDone}% done`;\n",
              "\n",
              "    } while (position < fileData.byteLength);\n",
              "  }\n",
              "\n",
              "  // All done.\n",
              "  yield {\n",
              "    response: {\n",
              "      action: 'complete',\n",
              "    }\n",
              "  };\n",
              "}\n",
              "\n",
              "scope.google = scope.google || {};\n",
              "scope.google.colab = scope.google.colab || {};\n",
              "scope.google.colab._files = {\n",
              "  _uploadFiles,\n",
              "  _uploadFilesContinue,\n",
              "};\n",
              "})(self);\n",
              "</script> "
            ]
          },
          "metadata": {}
        },
        {
          "output_type": "stream",
          "name": "stdout",
          "text": [
            "Saving titanic_cleaned.csv to titanic_cleaned.csv\n"
          ]
        }
      ]
    },
    {
      "cell_type": "code",
      "source": [
        "import warnings\n",
        "warnings.filterwarnings('ignore')"
      ],
      "metadata": {
        "id": "-m4-tpsXYy93"
      },
      "execution_count": 21,
      "outputs": []
    },
    {
      "cell_type": "code",
      "execution_count": 2,
      "metadata": {
        "id": "K0nNcFcoPln0"
      },
      "outputs": [],
      "source": [
        "import pandas as pd\n",
        "import numpy as np"
      ]
    },
    {
      "cell_type": "code",
      "source": [
        "titanic = pd.read_csv('titanic_cleaned.csv')"
      ],
      "metadata": {
        "id": "H2YBK7CxP6P9"
      },
      "execution_count": 7,
      "outputs": []
    },
    {
      "cell_type": "code",
      "source": [
        "titanic.shape"
      ],
      "metadata": {
        "colab": {
          "base_uri": "https://localhost:8080/"
        },
        "id": "s6sLjrwXRcMU",
        "outputId": "057e5949-beea-41ca-9233-0c9980127daa"
      },
      "execution_count": 9,
      "outputs": [
        {
          "output_type": "execute_result",
          "data": {
            "text/plain": [
              "(891, 15)"
            ]
          },
          "metadata": {},
          "execution_count": 9
        }
      ]
    },
    {
      "cell_type": "code",
      "source": [
        "titanic.isnull().sum()"
      ],
      "metadata": {
        "colab": {
          "base_uri": "https://localhost:8080/"
        },
        "id": "S-sUSGfeRgRs",
        "outputId": "7f123a5a-469e-4f40-a6aa-f6eaa93119e7"
      },
      "execution_count": 10,
      "outputs": [
        {
          "output_type": "execute_result",
          "data": {
            "text/plain": [
              "Unnamed: 0       0\n",
              "PassengerId      0\n",
              "Survived         0\n",
              "Pclass           0\n",
              "Name             0\n",
              "Sex              0\n",
              "Age              0\n",
              "SibSp            0\n",
              "Parch            0\n",
              "Ticket           0\n",
              "Fare             0\n",
              "Cabin          687\n",
              "Embarked         0\n",
              "Cabin_ind        0\n",
              "Family_Cnt       0\n",
              "dtype: int64"
            ]
          },
          "metadata": {},
          "execution_count": 10
        }
      ]
    },
    {
      "cell_type": "code",
      "source": [
        "col_needed=['Pclass','Sex','Age','Cabin_ind','Fare','Family_Cnt']\n",
        "X = titanic[col_needed]\n",
        "y = titanic['Survived']"
      ],
      "metadata": {
        "id": "gLw6KV_XRloY"
      },
      "execution_count": 12,
      "outputs": []
    },
    {
      "cell_type": "code",
      "source": [
        "X.shape"
      ],
      "metadata": {
        "colab": {
          "base_uri": "https://localhost:8080/"
        },
        "id": "agHQNyJoSQQC",
        "outputId": "44b9cd77-3858-4803-bdcd-0737933949c0"
      },
      "execution_count": 13,
      "outputs": [
        {
          "output_type": "execute_result",
          "data": {
            "text/plain": [
              "(891, 6)"
            ]
          },
          "metadata": {},
          "execution_count": 13
        }
      ]
    },
    {
      "cell_type": "code",
      "source": [
        "X.head()"
      ],
      "metadata": {
        "colab": {
          "base_uri": "https://localhost:8080/",
          "height": 206
        },
        "id": "C0nSLb9mSTzn",
        "outputId": "5fcdcf67-2cec-49c1-ce99-a7aa9076ca58"
      },
      "execution_count": 14,
      "outputs": [
        {
          "output_type": "execute_result",
          "data": {
            "text/plain": [
              "   Pclass     Sex   Age  Cabin_ind     Fare  Family_Cnt\n",
              "0       3    male  22.0          0   7.2500           1\n",
              "1       1  female  38.0          1  71.2833           1\n",
              "2       3  female  26.0          0   7.9250           0\n",
              "3       1  female  35.0          1  53.1000           1\n",
              "4       3    male  35.0          0   8.0500           0"
            ],
            "text/html": [
              "\n",
              "  <div id=\"df-8e3b2e22-17af-4223-aad0-edb409903ffb\">\n",
              "    <div class=\"colab-df-container\">\n",
              "      <div>\n",
              "<style scoped>\n",
              "    .dataframe tbody tr th:only-of-type {\n",
              "        vertical-align: middle;\n",
              "    }\n",
              "\n",
              "    .dataframe tbody tr th {\n",
              "        vertical-align: top;\n",
              "    }\n",
              "\n",
              "    .dataframe thead th {\n",
              "        text-align: right;\n",
              "    }\n",
              "</style>\n",
              "<table border=\"1\" class=\"dataframe\">\n",
              "  <thead>\n",
              "    <tr style=\"text-align: right;\">\n",
              "      <th></th>\n",
              "      <th>Pclass</th>\n",
              "      <th>Sex</th>\n",
              "      <th>Age</th>\n",
              "      <th>Cabin_ind</th>\n",
              "      <th>Fare</th>\n",
              "      <th>Family_Cnt</th>\n",
              "    </tr>\n",
              "  </thead>\n",
              "  <tbody>\n",
              "    <tr>\n",
              "      <th>0</th>\n",
              "      <td>3</td>\n",
              "      <td>male</td>\n",
              "      <td>22.0</td>\n",
              "      <td>0</td>\n",
              "      <td>7.2500</td>\n",
              "      <td>1</td>\n",
              "    </tr>\n",
              "    <tr>\n",
              "      <th>1</th>\n",
              "      <td>1</td>\n",
              "      <td>female</td>\n",
              "      <td>38.0</td>\n",
              "      <td>1</td>\n",
              "      <td>71.2833</td>\n",
              "      <td>1</td>\n",
              "    </tr>\n",
              "    <tr>\n",
              "      <th>2</th>\n",
              "      <td>3</td>\n",
              "      <td>female</td>\n",
              "      <td>26.0</td>\n",
              "      <td>0</td>\n",
              "      <td>7.9250</td>\n",
              "      <td>0</td>\n",
              "    </tr>\n",
              "    <tr>\n",
              "      <th>3</th>\n",
              "      <td>1</td>\n",
              "      <td>female</td>\n",
              "      <td>35.0</td>\n",
              "      <td>1</td>\n",
              "      <td>53.1000</td>\n",
              "      <td>1</td>\n",
              "    </tr>\n",
              "    <tr>\n",
              "      <th>4</th>\n",
              "      <td>3</td>\n",
              "      <td>male</td>\n",
              "      <td>35.0</td>\n",
              "      <td>0</td>\n",
              "      <td>8.0500</td>\n",
              "      <td>0</td>\n",
              "    </tr>\n",
              "  </tbody>\n",
              "</table>\n",
              "</div>\n",
              "      <button class=\"colab-df-convert\" onclick=\"convertToInteractive('df-8e3b2e22-17af-4223-aad0-edb409903ffb')\"\n",
              "              title=\"Convert this dataframe to an interactive table.\"\n",
              "              style=\"display:none;\">\n",
              "        \n",
              "  <svg xmlns=\"http://www.w3.org/2000/svg\" height=\"24px\"viewBox=\"0 0 24 24\"\n",
              "       width=\"24px\">\n",
              "    <path d=\"M0 0h24v24H0V0z\" fill=\"none\"/>\n",
              "    <path d=\"M18.56 5.44l.94 2.06.94-2.06 2.06-.94-2.06-.94-.94-2.06-.94 2.06-2.06.94zm-11 1L8.5 8.5l.94-2.06 2.06-.94-2.06-.94L8.5 2.5l-.94 2.06-2.06.94zm10 10l.94 2.06.94-2.06 2.06-.94-2.06-.94-.94-2.06-.94 2.06-2.06.94z\"/><path d=\"M17.41 7.96l-1.37-1.37c-.4-.4-.92-.59-1.43-.59-.52 0-1.04.2-1.43.59L10.3 9.45l-7.72 7.72c-.78.78-.78 2.05 0 2.83L4 21.41c.39.39.9.59 1.41.59.51 0 1.02-.2 1.41-.59l7.78-7.78 2.81-2.81c.8-.78.8-2.07 0-2.86zM5.41 20L4 18.59l7.72-7.72 1.47 1.35L5.41 20z\"/>\n",
              "  </svg>\n",
              "      </button>\n",
              "      \n",
              "  <style>\n",
              "    .colab-df-container {\n",
              "      display:flex;\n",
              "      flex-wrap:wrap;\n",
              "      gap: 12px;\n",
              "    }\n",
              "\n",
              "    .colab-df-convert {\n",
              "      background-color: #E8F0FE;\n",
              "      border: none;\n",
              "      border-radius: 50%;\n",
              "      cursor: pointer;\n",
              "      display: none;\n",
              "      fill: #1967D2;\n",
              "      height: 32px;\n",
              "      padding: 0 0 0 0;\n",
              "      width: 32px;\n",
              "    }\n",
              "\n",
              "    .colab-df-convert:hover {\n",
              "      background-color: #E2EBFA;\n",
              "      box-shadow: 0px 1px 2px rgba(60, 64, 67, 0.3), 0px 1px 3px 1px rgba(60, 64, 67, 0.15);\n",
              "      fill: #174EA6;\n",
              "    }\n",
              "\n",
              "    [theme=dark] .colab-df-convert {\n",
              "      background-color: #3B4455;\n",
              "      fill: #D2E3FC;\n",
              "    }\n",
              "\n",
              "    [theme=dark] .colab-df-convert:hover {\n",
              "      background-color: #434B5C;\n",
              "      box-shadow: 0px 1px 3px 1px rgba(0, 0, 0, 0.15);\n",
              "      filter: drop-shadow(0px 1px 2px rgba(0, 0, 0, 0.3));\n",
              "      fill: #FFFFFF;\n",
              "    }\n",
              "  </style>\n",
              "\n",
              "      <script>\n",
              "        const buttonEl =\n",
              "          document.querySelector('#df-8e3b2e22-17af-4223-aad0-edb409903ffb button.colab-df-convert');\n",
              "        buttonEl.style.display =\n",
              "          google.colab.kernel.accessAllowed ? 'block' : 'none';\n",
              "\n",
              "        async function convertToInteractive(key) {\n",
              "          const element = document.querySelector('#df-8e3b2e22-17af-4223-aad0-edb409903ffb');\n",
              "          const dataTable =\n",
              "            await google.colab.kernel.invokeFunction('convertToInteractive',\n",
              "                                                     [key], {});\n",
              "          if (!dataTable) return;\n",
              "\n",
              "          const docLinkHtml = 'Like what you see? Visit the ' +\n",
              "            '<a target=\"_blank\" href=https://colab.research.google.com/notebooks/data_table.ipynb>data table notebook</a>'\n",
              "            + ' to learn more about interactive tables.';\n",
              "          element.innerHTML = '';\n",
              "          dataTable['output_type'] = 'display_data';\n",
              "          await google.colab.output.renderOutput(dataTable, element);\n",
              "          const docLink = document.createElement('div');\n",
              "          docLink.innerHTML = docLinkHtml;\n",
              "          element.appendChild(docLink);\n",
              "        }\n",
              "      </script>\n",
              "    </div>\n",
              "  </div>\n",
              "  "
            ]
          },
          "metadata": {},
          "execution_count": 14
        }
      ]
    },
    {
      "cell_type": "code",
      "source": [
        "#Create Dummies for Qualitative/Categorical Variables\n",
        "X = pd.get_dummies(X, columns=['Pclass','Sex'])"
      ],
      "metadata": {
        "id": "LViwtvVYUNUq"
      },
      "execution_count": 17,
      "outputs": []
    },
    {
      "cell_type": "code",
      "source": [
        "X.head()"
      ],
      "metadata": {
        "colab": {
          "base_uri": "https://localhost:8080/",
          "height": 206
        },
        "id": "Tzy40B4qUdR_",
        "outputId": "c4a3a2b3-b574-49ea-9ce4-53c94bf593bd"
      },
      "execution_count": 18,
      "outputs": [
        {
          "output_type": "execute_result",
          "data": {
            "text/plain": [
              "    Age  Cabin_ind     Fare  Family_Cnt  Pclass_1  Pclass_2  Pclass_3  \\\n",
              "0  22.0          0   7.2500           1         0         0         1   \n",
              "1  38.0          1  71.2833           1         1         0         0   \n",
              "2  26.0          0   7.9250           0         0         0         1   \n",
              "3  35.0          1  53.1000           1         1         0         0   \n",
              "4  35.0          0   8.0500           0         0         0         1   \n",
              "\n",
              "   Sex_female  Sex_male  \n",
              "0           0         1  \n",
              "1           1         0  \n",
              "2           1         0  \n",
              "3           1         0  \n",
              "4           0         1  "
            ],
            "text/html": [
              "\n",
              "  <div id=\"df-c35fa527-84ee-46c2-97c3-e2bdab5e98b2\">\n",
              "    <div class=\"colab-df-container\">\n",
              "      <div>\n",
              "<style scoped>\n",
              "    .dataframe tbody tr th:only-of-type {\n",
              "        vertical-align: middle;\n",
              "    }\n",
              "\n",
              "    .dataframe tbody tr th {\n",
              "        vertical-align: top;\n",
              "    }\n",
              "\n",
              "    .dataframe thead th {\n",
              "        text-align: right;\n",
              "    }\n",
              "</style>\n",
              "<table border=\"1\" class=\"dataframe\">\n",
              "  <thead>\n",
              "    <tr style=\"text-align: right;\">\n",
              "      <th></th>\n",
              "      <th>Age</th>\n",
              "      <th>Cabin_ind</th>\n",
              "      <th>Fare</th>\n",
              "      <th>Family_Cnt</th>\n",
              "      <th>Pclass_1</th>\n",
              "      <th>Pclass_2</th>\n",
              "      <th>Pclass_3</th>\n",
              "      <th>Sex_female</th>\n",
              "      <th>Sex_male</th>\n",
              "    </tr>\n",
              "  </thead>\n",
              "  <tbody>\n",
              "    <tr>\n",
              "      <th>0</th>\n",
              "      <td>22.0</td>\n",
              "      <td>0</td>\n",
              "      <td>7.2500</td>\n",
              "      <td>1</td>\n",
              "      <td>0</td>\n",
              "      <td>0</td>\n",
              "      <td>1</td>\n",
              "      <td>0</td>\n",
              "      <td>1</td>\n",
              "    </tr>\n",
              "    <tr>\n",
              "      <th>1</th>\n",
              "      <td>38.0</td>\n",
              "      <td>1</td>\n",
              "      <td>71.2833</td>\n",
              "      <td>1</td>\n",
              "      <td>1</td>\n",
              "      <td>0</td>\n",
              "      <td>0</td>\n",
              "      <td>1</td>\n",
              "      <td>0</td>\n",
              "    </tr>\n",
              "    <tr>\n",
              "      <th>2</th>\n",
              "      <td>26.0</td>\n",
              "      <td>0</td>\n",
              "      <td>7.9250</td>\n",
              "      <td>0</td>\n",
              "      <td>0</td>\n",
              "      <td>0</td>\n",
              "      <td>1</td>\n",
              "      <td>1</td>\n",
              "      <td>0</td>\n",
              "    </tr>\n",
              "    <tr>\n",
              "      <th>3</th>\n",
              "      <td>35.0</td>\n",
              "      <td>1</td>\n",
              "      <td>53.1000</td>\n",
              "      <td>1</td>\n",
              "      <td>1</td>\n",
              "      <td>0</td>\n",
              "      <td>0</td>\n",
              "      <td>1</td>\n",
              "      <td>0</td>\n",
              "    </tr>\n",
              "    <tr>\n",
              "      <th>4</th>\n",
              "      <td>35.0</td>\n",
              "      <td>0</td>\n",
              "      <td>8.0500</td>\n",
              "      <td>0</td>\n",
              "      <td>0</td>\n",
              "      <td>0</td>\n",
              "      <td>1</td>\n",
              "      <td>0</td>\n",
              "      <td>1</td>\n",
              "    </tr>\n",
              "  </tbody>\n",
              "</table>\n",
              "</div>\n",
              "      <button class=\"colab-df-convert\" onclick=\"convertToInteractive('df-c35fa527-84ee-46c2-97c3-e2bdab5e98b2')\"\n",
              "              title=\"Convert this dataframe to an interactive table.\"\n",
              "              style=\"display:none;\">\n",
              "        \n",
              "  <svg xmlns=\"http://www.w3.org/2000/svg\" height=\"24px\"viewBox=\"0 0 24 24\"\n",
              "       width=\"24px\">\n",
              "    <path d=\"M0 0h24v24H0V0z\" fill=\"none\"/>\n",
              "    <path d=\"M18.56 5.44l.94 2.06.94-2.06 2.06-.94-2.06-.94-.94-2.06-.94 2.06-2.06.94zm-11 1L8.5 8.5l.94-2.06 2.06-.94-2.06-.94L8.5 2.5l-.94 2.06-2.06.94zm10 10l.94 2.06.94-2.06 2.06-.94-2.06-.94-.94-2.06-.94 2.06-2.06.94z\"/><path d=\"M17.41 7.96l-1.37-1.37c-.4-.4-.92-.59-1.43-.59-.52 0-1.04.2-1.43.59L10.3 9.45l-7.72 7.72c-.78.78-.78 2.05 0 2.83L4 21.41c.39.39.9.59 1.41.59.51 0 1.02-.2 1.41-.59l7.78-7.78 2.81-2.81c.8-.78.8-2.07 0-2.86zM5.41 20L4 18.59l7.72-7.72 1.47 1.35L5.41 20z\"/>\n",
              "  </svg>\n",
              "      </button>\n",
              "      \n",
              "  <style>\n",
              "    .colab-df-container {\n",
              "      display:flex;\n",
              "      flex-wrap:wrap;\n",
              "      gap: 12px;\n",
              "    }\n",
              "\n",
              "    .colab-df-convert {\n",
              "      background-color: #E8F0FE;\n",
              "      border: none;\n",
              "      border-radius: 50%;\n",
              "      cursor: pointer;\n",
              "      display: none;\n",
              "      fill: #1967D2;\n",
              "      height: 32px;\n",
              "      padding: 0 0 0 0;\n",
              "      width: 32px;\n",
              "    }\n",
              "\n",
              "    .colab-df-convert:hover {\n",
              "      background-color: #E2EBFA;\n",
              "      box-shadow: 0px 1px 2px rgba(60, 64, 67, 0.3), 0px 1px 3px 1px rgba(60, 64, 67, 0.15);\n",
              "      fill: #174EA6;\n",
              "    }\n",
              "\n",
              "    [theme=dark] .colab-df-convert {\n",
              "      background-color: #3B4455;\n",
              "      fill: #D2E3FC;\n",
              "    }\n",
              "\n",
              "    [theme=dark] .colab-df-convert:hover {\n",
              "      background-color: #434B5C;\n",
              "      box-shadow: 0px 1px 3px 1px rgba(0, 0, 0, 0.15);\n",
              "      filter: drop-shadow(0px 1px 2px rgba(0, 0, 0, 0.3));\n",
              "      fill: #FFFFFF;\n",
              "    }\n",
              "  </style>\n",
              "\n",
              "      <script>\n",
              "        const buttonEl =\n",
              "          document.querySelector('#df-c35fa527-84ee-46c2-97c3-e2bdab5e98b2 button.colab-df-convert');\n",
              "        buttonEl.style.display =\n",
              "          google.colab.kernel.accessAllowed ? 'block' : 'none';\n",
              "\n",
              "        async function convertToInteractive(key) {\n",
              "          const element = document.querySelector('#df-c35fa527-84ee-46c2-97c3-e2bdab5e98b2');\n",
              "          const dataTable =\n",
              "            await google.colab.kernel.invokeFunction('convertToInteractive',\n",
              "                                                     [key], {});\n",
              "          if (!dataTable) return;\n",
              "\n",
              "          const docLinkHtml = 'Like what you see? Visit the ' +\n",
              "            '<a target=\"_blank\" href=https://colab.research.google.com/notebooks/data_table.ipynb>data table notebook</a>'\n",
              "            + ' to learn more about interactive tables.';\n",
              "          element.innerHTML = '';\n",
              "          dataTable['output_type'] = 'display_data';\n",
              "          await google.colab.output.renderOutput(dataTable, element);\n",
              "          const docLink = document.createElement('div');\n",
              "          docLink.innerHTML = docLinkHtml;\n",
              "          element.appendChild(docLink);\n",
              "        }\n",
              "      </script>\n",
              "    </div>\n",
              "  </div>\n",
              "  "
            ]
          },
          "metadata": {},
          "execution_count": 18
        }
      ]
    },
    {
      "cell_type": "code",
      "source": [
        "X.drop('Sex_female',axis=1,inplace=True)"
      ],
      "metadata": {
        "id": "IEpUqp4CUkM3"
      },
      "execution_count": 19,
      "outputs": []
    },
    {
      "cell_type": "code",
      "source": [
        "from sklearn.model_selection import train_test_split\n",
        "X_train, X_test, y_train, y_test = train_test_split(X,y, test_size=0.2, random_state=0)"
      ],
      "metadata": {
        "id": "43EFaOk-S2KM"
      },
      "execution_count": 20,
      "outputs": []
    },
    {
      "cell_type": "code",
      "source": [
        "from sklearn.linear_model import LogisticRegression\n",
        "reg = LogisticRegression()\n",
        "reg.fit(X_train, y_train)"
      ],
      "metadata": {
        "colab": {
          "base_uri": "https://localhost:8080/"
        },
        "id": "8VtsrZLQWj8J",
        "outputId": "ddafb9f8-d2f5-4b22-b278-48bc26a5a702"
      },
      "execution_count": 23,
      "outputs": [
        {
          "output_type": "execute_result",
          "data": {
            "text/plain": [
              "LogisticRegression()"
            ]
          },
          "metadata": {},
          "execution_count": 23
        }
      ]
    },
    {
      "cell_type": "code",
      "source": [
        "reg.coef_"
      ],
      "metadata": {
        "colab": {
          "base_uri": "https://localhost:8080/"
        },
        "id": "ofsv5t7aZ9na",
        "outputId": "1d68a03d-14ad-4d9a-de11-b552bc9851ed"
      },
      "execution_count": 24,
      "outputs": [
        {
          "output_type": "execute_result",
          "data": {
            "text/plain": [
              "array([[-0.04068118,  0.73280686,  0.00281657, -0.24405836,  1.06037351,\n",
              "         0.71866065, -0.28347034, -2.59760352]])"
            ]
          },
          "metadata": {},
          "execution_count": 24
        }
      ]
    },
    {
      "cell_type": "code",
      "source": [
        "pred = reg.predict(X_test)"
      ],
      "metadata": {
        "id": "mDw7Zn0YaQWm"
      },
      "execution_count": 25,
      "outputs": []
    },
    {
      "cell_type": "code",
      "source": [
        "pred"
      ],
      "metadata": {
        "colab": {
          "base_uri": "https://localhost:8080/"
        },
        "id": "71fbLMwgaUhE",
        "outputId": "0dcb9b5e-1ace-4946-e36a-f0b70d065009"
      },
      "execution_count": 26,
      "outputs": [
        {
          "output_type": "execute_result",
          "data": {
            "text/plain": [
              "array([0, 0, 0, 1, 1, 1, 1, 1, 1, 1, 0, 1, 0, 1, 1, 1, 0, 0, 0, 0, 0, 1,\n",
              "       0, 0, 1, 1, 0, 1, 1, 1, 0, 1, 0, 1, 0, 0, 0, 0, 0, 0, 0, 0, 0, 0,\n",
              "       1, 0, 0, 1, 0, 0, 1, 1, 1, 0, 1, 0, 0, 0, 0, 0, 0, 0, 1, 0, 1, 0,\n",
              "       1, 0, 1, 1, 1, 0, 0, 0, 0, 1, 0, 0, 0, 0, 0, 0, 1, 0, 0, 1, 1, 0,\n",
              "       1, 1, 0, 0, 1, 1, 1, 0, 1, 0, 0, 1, 0, 0, 0, 0, 1, 0, 1, 0, 0, 1,\n",
              "       0, 1, 0, 1, 0, 1, 1, 1, 0, 1, 0, 0, 0, 0, 0, 0, 0, 0, 0, 0, 1, 0,\n",
              "       0, 1, 0, 0, 0, 0, 0, 0, 0, 1, 0, 1, 1, 1, 0, 1, 1, 0, 0, 1, 1, 0,\n",
              "       1, 0, 0, 0, 1, 1, 0, 0, 1, 0, 0, 0, 0, 0, 0, 0, 0, 1, 0, 0, 1, 0,\n",
              "       1, 0, 0])"
            ]
          },
          "metadata": {},
          "execution_count": 26
        }
      ]
    },
    {
      "cell_type": "code",
      "source": [
        "reg.predict_proba(X_test)"
      ],
      "metadata": {
        "colab": {
          "base_uri": "https://localhost:8080/"
        },
        "id": "Xhx7Hgl9aWsF",
        "outputId": "8534592b-90ab-4fd5-cddc-3d8d20effead"
      },
      "execution_count": 27,
      "outputs": [
        {
          "output_type": "execute_result",
          "data": {
            "text/plain": [
              "array([[0.88555908, 0.11444092],\n",
              "       [0.88751627, 0.11248373],\n",
              "       [0.90901902, 0.09098098],\n",
              "       [0.05974873, 0.94025127],\n",
              "       [0.47652096, 0.52347904],\n",
              "       [0.48109081, 0.51890919],\n",
              "       [0.06910256, 0.93089744],\n",
              "       [0.07511203, 0.92488797],\n",
              "       [0.45179868, 0.54820132],\n",
              "       [0.37026463, 0.62973537],\n",
              "       [0.89644512, 0.10355488],\n",
              "       [0.2440846 , 0.7559154 ],\n",
              "       [0.88746002, 0.11253998],\n",
              "       [0.1169024 , 0.8830976 ],\n",
              "       [0.04506923, 0.95493077],\n",
              "       [0.23658384, 0.76341616],\n",
              "       [0.85672762, 0.14327238],\n",
              "       [0.73771141, 0.26228859],\n",
              "       [0.90719493, 0.09280507],\n",
              "       [0.75321716, 0.24678284],\n",
              "       [0.64024505, 0.35975495],\n",
              "       [0.06948515, 0.93051485],\n",
              "       [0.88746353, 0.11253647],\n",
              "       [0.65829958, 0.34170042],\n",
              "       [0.29908949, 0.70091051],\n",
              "       [0.113143  , 0.886857  ],\n",
              "       [0.8964369 , 0.1035631 ],\n",
              "       [0.30032352, 0.69967648],\n",
              "       [0.17752753, 0.82247247],\n",
              "       [0.37851796, 0.62148204],\n",
              "       [0.89995895, 0.10004105],\n",
              "       [0.32815064, 0.67184936],\n",
              "       [0.87984929, 0.12015071],\n",
              "       [0.47757612, 0.52242388],\n",
              "       [0.90743037, 0.09256963],\n",
              "       [0.50448232, 0.49551768],\n",
              "       [0.9314904 , 0.0685096 ],\n",
              "       [0.72830825, 0.27169175],\n",
              "       [0.70202748, 0.29797252],\n",
              "       [0.88431157, 0.11568843],\n",
              "       [0.81875754, 0.18124246],\n",
              "       [0.86707818, 0.13292182],\n",
              "       [0.88554718, 0.11445282],\n",
              "       [0.9280246 , 0.0719754 ],\n",
              "       [0.08605531, 0.91394469],\n",
              "       [0.887419  , 0.112581  ],\n",
              "       [0.887419  , 0.112581  ],\n",
              "       [0.05593156, 0.94406844],\n",
              "       [0.8063566 , 0.1936434 ],\n",
              "       [0.76516986, 0.23483014],\n",
              "       [0.48144239, 0.51855761],\n",
              "       [0.45098534, 0.54901466],\n",
              "       [0.10574258, 0.89425742],\n",
              "       [0.83608627, 0.16391373],\n",
              "       [0.48165334, 0.51834666],\n",
              "       [0.75657709, 0.24342291],\n",
              "       [0.77721166, 0.22278834],\n",
              "       [0.5261859 , 0.4738141 ],\n",
              "       [0.91887877, 0.08112123],\n",
              "       [0.92480615, 0.07519385],\n",
              "       [0.85237013, 0.14762987],\n",
              "       [0.5933214 , 0.4066786 ],\n",
              "       [0.17148091, 0.82851909],\n",
              "       [0.65283023, 0.34716977],\n",
              "       [0.45915013, 0.54084987],\n",
              "       [0.89647502, 0.10352498],\n",
              "       [0.13293891, 0.86706109],\n",
              "       [0.76255556, 0.23744444],\n",
              "       [0.09754561, 0.90245439],\n",
              "       [0.04281448, 0.95718552],\n",
              "       [0.17166532, 0.82833468],\n",
              "       [0.70105582, 0.29894418],\n",
              "       [0.66519582, 0.33480418],\n",
              "       [0.8873756 , 0.1126244 ],\n",
              "       [0.86444424, 0.13555576],\n",
              "       [0.30415619, 0.69584381],\n",
              "       [0.51362484, 0.48637516],\n",
              "       [0.74725282, 0.25274718],\n",
              "       [0.90409293, 0.09590707],\n",
              "       [0.73930568, 0.26069432],\n",
              "       [0.9057593 , 0.0942407 ],\n",
              "       [0.84398098, 0.15601902],\n",
              "       [0.2229686 , 0.7770314 ],\n",
              "       [0.81871835, 0.18128165],\n",
              "       [0.8421962 , 0.1578038 ],\n",
              "       [0.04066641, 0.95933359],\n",
              "       [0.11972989, 0.88027011],\n",
              "       [0.6935981 , 0.3064019 ],\n",
              "       [0.10907087, 0.89092913],\n",
              "       [0.37089767, 0.62910233],\n",
              "       [0.50255814, 0.49744186],\n",
              "       [0.83608627, 0.16391373],\n",
              "       [0.42084142, 0.57915858],\n",
              "       [0.12732299, 0.87267701],\n",
              "       [0.44742623, 0.55257377],\n",
              "       [0.88760644, 0.11239356],\n",
              "       [0.21459928, 0.78540072],\n",
              "       [0.9332735 , 0.0667265 ],\n",
              "       [0.86999732, 0.13000268],\n",
              "       [0.42172793, 0.57827207],\n",
              "       [0.95367035, 0.04632965],\n",
              "       [0.90414632, 0.09585368],\n",
              "       [0.71038961, 0.28961039],\n",
              "       [0.888642  , 0.111358  ],\n",
              "       [0.30718355, 0.69281645],\n",
              "       [0.53394945, 0.46605055],\n",
              "       [0.16553572, 0.83446428],\n",
              "       [0.74221672, 0.25778328],\n",
              "       [0.7435332 , 0.2564668 ],\n",
              "       [0.42303695, 0.57696305],\n",
              "       [0.94317432, 0.05682568],\n",
              "       [0.05670946, 0.94329054],\n",
              "       [0.88302171, 0.11697829],\n",
              "       [0.36972574, 0.63027426],\n",
              "       [0.65942799, 0.34057201],\n",
              "       [0.1653996 , 0.8346004 ],\n",
              "       [0.36745481, 0.63254519],\n",
              "       [0.03046945, 0.96953055],\n",
              "       [0.92299094, 0.07700906],\n",
              "       [0.3831471 , 0.6168529 ],\n",
              "       [0.87300114, 0.12699886],\n",
              "       [0.88726062, 0.11273938],\n",
              "       [0.84129741, 0.15870259],\n",
              "       [0.74663195, 0.25336805],\n",
              "       [0.89996106, 0.10003894],\n",
              "       [0.74609517, 0.25390483],\n",
              "       [0.88760762, 0.11239238],\n",
              "       [0.89262865, 0.10737135],\n",
              "       [0.74739227, 0.25260773],\n",
              "       [0.87169393, 0.12830607],\n",
              "       [0.29184525, 0.70815475],\n",
              "       [0.84687773, 0.15312227],\n",
              "       [0.86713497, 0.13286503],\n",
              "       [0.33427645, 0.66572355],\n",
              "       [0.88747539, 0.11252461],\n",
              "       [0.84687773, 0.15312227],\n",
              "       [0.90962899, 0.09037101],\n",
              "       [0.53138448, 0.46861552],\n",
              "       [0.86263577, 0.13736423],\n",
              "       [0.68473297, 0.31526703],\n",
              "       [0.72691269, 0.27308731],\n",
              "       [0.07852777, 0.92147223],\n",
              "       [0.8873756 , 0.1126244 ],\n",
              "       [0.2678289 , 0.7321711 ],\n",
              "       [0.16717281, 0.83282719],\n",
              "       [0.31702153, 0.68297847],\n",
              "       [0.74276262, 0.25723738],\n",
              "       [0.30119595, 0.69880405],\n",
              "       [0.09844622, 0.90155378],\n",
              "       [0.88720307, 0.11279693],\n",
              "       [0.65512306, 0.34487694],\n",
              "       [0.36967375, 0.63032625],\n",
              "       [0.44011002, 0.55988998],\n",
              "       [0.88458084, 0.11541916],\n",
              "       [0.11271886, 0.88728114],\n",
              "       [0.71191314, 0.28808686],\n",
              "       [0.57812591, 0.42187409],\n",
              "       [0.91444957, 0.08555043],\n",
              "       [0.36992266, 0.63007734],\n",
              "       [0.26688755, 0.73311245],\n",
              "       [0.887419  , 0.112581  ],\n",
              "       [0.84183567, 0.15816433],\n",
              "       [0.31233583, 0.68766417],\n",
              "       [0.57715276, 0.42284724],\n",
              "       [0.87617115, 0.12382885],\n",
              "       [0.75793   , 0.24207   ],\n",
              "       [0.9494807 , 0.0505193 ],\n",
              "       [0.8521692 , 0.1478308 ],\n",
              "       [0.86209464, 0.13790536],\n",
              "       [0.82431639, 0.17568361],\n",
              "       [0.94934599, 0.05065401],\n",
              "       [0.09917746, 0.90082254],\n",
              "       [0.88760059, 0.11239941],\n",
              "       [0.88554718, 0.11445282],\n",
              "       [0.22962648, 0.77037352],\n",
              "       [0.8873756 , 0.1126244 ],\n",
              "       [0.06853344, 0.93146656],\n",
              "       [0.85720088, 0.14279912],\n",
              "       [0.83602674, 0.16397326]])"
            ]
          },
          "metadata": {},
          "execution_count": 27
        }
      ]
    },
    {
      "cell_type": "code",
      "source": [
        "print('training accuracy', reg.score(X_train, y_train))"
      ],
      "metadata": {
        "colab": {
          "base_uri": "https://localhost:8080/"
        },
        "id": "hy8fM07caraG",
        "outputId": "6455956f-7dd9-4cc4-aa04-635920ed50af"
      },
      "execution_count": 28,
      "outputs": [
        {
          "output_type": "stream",
          "name": "stdout",
          "text": [
            "training accuracy 0.8075842696629213\n"
          ]
        }
      ]
    },
    {
      "cell_type": "code",
      "source": [
        "print('test accuracy', reg.score(X_test, y_test))"
      ],
      "metadata": {
        "colab": {
          "base_uri": "https://localhost:8080/"
        },
        "id": "GeMSG_PbbHlt",
        "outputId": "2627bc3a-3ff0-481a-a7cc-497b5fc1a272"
      },
      "execution_count": 29,
      "outputs": [
        {
          "output_type": "stream",
          "name": "stdout",
          "text": [
            "test accuracy 0.8379888268156425\n"
          ]
        }
      ]
    }
  ]
}